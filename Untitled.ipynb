{
 "cells": [
  {
   "cell_type": "code",
   "execution_count": 98,
   "metadata": {
    "collapsed": false
   },
   "outputs": [],
   "source": [
    "from keras.models import Sequential, load_model\n",
    "from keras.layers import LSTM, Dense, Embedding\n",
    "from keras.preprocessing import sequence\n",
    "from sklearn.metrics import mean_squared_error\n",
    "from pydub import AudioSegment\n",
    "from sklearn.model_selection import train_test_split\n",
    "import numpy as np\n",
    "import glob\n",
    "import pickle"
   ]
  },
  {
   "cell_type": "code",
   "execution_count": 9,
   "metadata": {
    "collapsed": false
   },
   "outputs": [],
   "source": [
    "ill = glob.glob('files/-*.wav')\n",
    "not_ill = glob.glob('files/+*.wav')"
   ]
  },
  {
   "cell_type": "code",
   "execution_count": 155,
   "metadata": {
    "collapsed": false
   },
   "outputs": [],
   "source": [
    "X = [AudioSegment.from_wav(x)[:10 * 1000].get_array_of_samples() for x in ill]\n",
    "X.extend([AudioSegment.from_wav(x)[:10 * 1000].get_array_of_samples() for x in not_ill])\n",
    "minimum = min([min(x) for x in X])\n",
    "X = list(map(lambda x: [np.mean(x[i:i+100])-minimum for i in range(0, len(x), 100)], X))\n",
    "X = np.array(list(map(lambda x: x[:min_l], X))).reshape(len(X), min_l).reshape(len(X), min_l)\n",
    "y = np.array([1]*(len(ill)) + [0]*len(not_ill))"
   ]
  },
  {
   "cell_type": "code",
   "execution_count": 156,
   "metadata": {
    "collapsed": false
   },
   "outputs": [],
   "source": [
    "X_train, X_test, y_train, y_test = train_test_split(X, y, test_size=0.1)"
   ]
  },
  {
   "cell_type": "code",
   "execution_count": 157,
   "metadata": {
    "collapsed": false
   },
   "outputs": [],
   "source": [
    "model = Sequential()\n",
    "model.add(Embedding(X.max()+1, 32, input_length=X.shape[1]))\n",
    "model.add(LSTM(32, input_shape=(len(max(X_train, key=len)), len(X_train))))\n",
    "model.add(Dense(1, activation='sigmoid'))\n",
    "model.compile(loss='binary_crossentropy', optimizer='adam', metrics=['mean_squared_error'])"
   ]
  },
  {
   "cell_type": "code",
   "execution_count": 119,
   "metadata": {
    "collapsed": false
   },
   "outputs": [
    {
     "name": "stdout",
     "output_type": "stream",
     "text": [
      "Epoch 1/10\n",
      "12/12 [==============================] - 1s - loss: 0.6960 - mean_squared_error: 0.2514\n",
      "Epoch 2/10\n",
      "12/12 [==============================] - 0s - loss: 0.6869 - mean_squared_error: 0.2469\n",
      "Epoch 3/10\n",
      "12/12 [==============================] - 0s - loss: 0.6771 - mean_squared_error: 0.2420\n",
      "Epoch 4/10\n",
      "12/12 [==============================] - 0s - loss: 0.6668 - mean_squared_error: 0.2368\n",
      "Epoch 5/10\n",
      "12/12 [==============================] - 0s - loss: 0.6560 - mean_squared_error: 0.2314\n",
      "Epoch 6/10\n",
      "12/12 [==============================] - 0s - loss: 0.6443 - mean_squared_error: 0.2256\n",
      "Epoch 7/10\n",
      "12/12 [==============================] - 0s - loss: 0.6316 - mean_squared_error: 0.2194\n",
      "Epoch 8/10\n",
      "12/12 [==============================] - 0s - loss: 0.6179 - mean_squared_error: 0.2127\n",
      "Epoch 9/10\n",
      "12/12 [==============================] - 0s - loss: 0.6030 - mean_squared_error: 0.2054\n",
      "Epoch 10/10\n",
      "12/12 [==============================] - 0s - loss: 0.5869 - mean_squared_error: 0.1976\n"
     ]
    },
    {
     "data": {
      "text/plain": [
       "<keras.callbacks.History at 0x13a1bfdd8>"
      ]
     },
     "execution_count": 119,
     "metadata": {},
     "output_type": "execute_result"
    }
   ],
   "source": [
    "model.fit(X_train, y_train)"
   ]
  },
  {
   "cell_type": "code",
   "execution_count": 158,
   "metadata": {
    "collapsed": false
   },
   "outputs": [
    {
     "data": {
      "text/plain": [
       "0.25179659709796631"
      ]
     },
     "execution_count": 158,
     "metadata": {},
     "output_type": "execute_result"
    }
   ],
   "source": [
    "mean_squared_error(y_test, model.predict(X_test))"
   ]
  },
  {
   "cell_type": "code",
   "execution_count": 159,
   "metadata": {
    "collapsed": false
   },
   "outputs": [],
   "source": [
    "model.save('model.h5')"
   ]
  },
  {
   "cell_type": "code",
   "execution_count": 126,
   "metadata": {
    "collapsed": false
   },
   "outputs": [],
   "source": [
    "model = load_model('model.h5')"
   ]
  },
  {
   "cell_type": "code",
   "execution_count": 162,
   "metadata": {
    "collapsed": false
   },
   "outputs": [],
   "source": [
    "to_predict = AudioSegment.from_wav('files/+1.wav')\n",
    "if to_predict.duration_seconds < 10:\n",
    "    raise CoolGeraException\n",
    "to_predict = to_predict[:10 * 1000].get_array_of_samples()\n",
    "minimum = min(to_predict)\n",
    "to_predict = np.array([np.mean(to_predict[i:i+100])-minimum for i in range(0, len(to_predict), 100)])\n",
    "\n",
    "RESULT = model.predict(to_predict[:80].reshape(-1, 80))[0][0]"
   ]
  },
  {
   "cell_type": "code",
   "execution_count": 163,
   "metadata": {
    "collapsed": false
   },
   "outputs": [
    {
     "data": {
      "text/plain": [
       "0.5153237"
      ]
     },
     "execution_count": 163,
     "metadata": {},
     "output_type": "execute_result"
    }
   ],
   "source": [
    "RESULT"
   ]
  },
  {
   "cell_type": "code",
   "execution_count": null,
   "metadata": {
    "collapsed": true
   },
   "outputs": [],
   "source": []
  }
 ],
 "metadata": {
  "kernelspec": {
   "display_name": "Python 3",
   "language": "python",
   "name": "python3"
  },
  "language_info": {
   "codemirror_mode": {
    "name": "ipython",
    "version": 3
   },
   "file_extension": ".py",
   "mimetype": "text/x-python",
   "name": "python",
   "nbconvert_exporter": "python",
   "pygments_lexer": "ipython3",
   "version": "3.5.2"
  }
 },
 "nbformat": 4,
 "nbformat_minor": 0
}
